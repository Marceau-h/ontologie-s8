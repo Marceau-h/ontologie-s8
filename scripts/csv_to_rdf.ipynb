{
 "cells": [
  {
   "cell_type": "code",
   "execution_count": 1,
   "metadata": {
    "collapsed": true,
    "ExecuteTime": {
     "start_time": "2023-04-16T09:49:59.850647Z",
     "end_time": "2023-04-16T09:50:00.010247Z"
    }
   },
   "outputs": [],
   "source": [
    "from rdflib.graph import Graph, Literal, Namespace, URIRef\n",
    "from rdflib.namespace import Namespace, OWL, RDF, RDFS, FOAF, DCTERMS, XSD, SDO\n",
    "import pandas as pd\n"
   ]
  },
  {
   "cell_type": "code",
   "execution_count": 2,
   "outputs": [],
   "source": [
    "# Load the data\n",
    "graph = Graph()\n",
    "rdf = graph.parse(\"../RDFs/languesV1.ttl\")\n",
    "\n",
    "famille_de_langue = pd.read_csv(\"../CSVS/famille.csv\")\n",
    "pays = pd.read_csv(\"../CSVS/pays.csv\")\n",
    "region = pd.read_csv(\"../CSVS/region.csv\")\n",
    "langues = pd.read_csv(\"../CSVS/langues_ad.csv\")\n",
    "\n",
    "untitled_ontology = Namespace(\"http://www.semanticweb.org/marceau/ontologies/2023/2/untitled-ontology-5#\")\n",
    "dbpedia = Namespace(\"http://dbpedia.org/resource/\")\n",
    "owl = Namespace(\"http://www.w3.org/2002/07/owl#\")\n",
    "rdf = Namespace(\"http://www.w3.org/1999/02/22-rdf-syntax-ns#\")\n",
    "rdfs = Namespace(\"http://www.w3.org/2000/01/rdf-schema#\")\n",
    "xsd = Namespace(\"http://www.w3.org/2001/XMLSchema#\")\n",
    "\n",
    "graph.bind(\"untitled-ontology-5\", untitled_ontology)\n",
    "graph.bind(\"dbpedia\", dbpedia)\n",
    "graph.bind(\"owl\", owl)\n",
    "graph.bind(\"rdf\", rdf)\n",
    "graph.bind(\"rdfs\", rdfs)\n",
    "graph.bind(\"xsd\", xsd)\n"
   ],
   "metadata": {
    "collapsed": false,
    "ExecuteTime": {
     "start_time": "2023-04-16T09:50:00.012453Z",
     "end_time": "2023-04-16T09:50:00.049298Z"
    }
   }
  },
  {
   "cell_type": "code",
   "execution_count": 3,
   "outputs": [],
   "source": [
    "# Parsing functions\n",
    "def parse_multiple_values(row, column):\n",
    "    values = row[column].split(\",\")\n",
    "    values = [v.strip() for v in values]\n",
    "    values = [v for v in values if v]\n",
    "    return values\n",
    "\n",
    "def parse_int(value):\n",
    "    return int(value) if value else 0"
   ],
   "metadata": {
    "collapsed": false,
    "ExecuteTime": {
     "start_time": "2023-04-16T09:50:00.050776Z",
     "end_time": "2023-04-16T09:50:00.053311Z"
    }
   }
  },
  {
   "cell_type": "code",
   "execution_count": 3,
   "outputs": [],
   "source": [],
   "metadata": {
    "collapsed": false,
    "ExecuteTime": {
     "start_time": "2023-04-16T09:50:00.052654Z",
     "end_time": "2023-04-16T09:50:00.055458Z"
    }
   }
  },
  {
   "cell_type": "code",
   "execution_count": 4,
   "outputs": [],
   "source": [
    "# Ontology creation functions\n",
    "def create_class(graph, label, parent=None):\n",
    "    class_uri = untitled_ontology[label]\n",
    "    graph.add((class_uri, RDF.type, OWL.Class))\n",
    "    graph.add((class_uri, RDFS.label, Literal(label)))\n",
    "    if parent:\n",
    "        parent_uri = untitled_ontology[parent]\n",
    "        graph.add((class_uri, RDFS.subClassOf, parent_uri))\n",
    "    return class_uri\n",
    "\n",
    "def create_property(graph, label, domain, range, parent=None):\n",
    "    if not label:\n",
    "        return None\n",
    "    property_uri = untitled_ontology[label]\n",
    "    graph.add((property_uri, RDF.type, OWL.ObjectProperty))\n",
    "    graph.add((property_uri, RDFS.label, Literal(label)))\n",
    "    domain_uri = untitled_ontology[domain]\n",
    "    graph.add((property_uri, RDFS.domain, domain_uri))\n",
    "    range_uri = untitled_ontology[range]\n",
    "    graph.add((property_uri, RDFS.range, range_uri))\n",
    "    if parent:\n",
    "        parent_uri = untitled_ontology[parent]\n",
    "        graph.add((property_uri, RDFS.subPropertyOf, parent_uri))\n",
    "    return property_uri\n",
    "\n",
    "def create_instance(graph, label, class_uri):\n",
    "    instance_uri = untitled_ontology[label]\n",
    "    graph.add((instance_uri, RDF.type, class_uri))\n",
    "    graph.add((instance_uri, RDFS.label, Literal(label)))\n",
    "    return instance_uri\n",
    "\n",
    "def create_datatype_property(graph, label, domain, range, parent=None):\n",
    "    property_uri = untitled_ontology[label]\n",
    "    graph.add((property_uri, RDF.type, OWL.DatatypeProperty))\n",
    "    graph.add((property_uri, RDFS.label, Literal(label)))\n",
    "    domain_uri = untitled_ontology[domain]\n",
    "    graph.add((property_uri, RDFS.domain, domain_uri))\n",
    "    range_uri = XSD[range]\n",
    "    graph.add((property_uri, RDFS.range, range_uri))\n",
    "    if parent:\n",
    "        parent_uri = untitled_ontology[parent]\n",
    "        graph.add((property_uri, RDFS.subPropertyOf, parent_uri))\n",
    "    return property_uri\n"
   ],
   "metadata": {
    "collapsed": false,
    "ExecuteTime": {
     "start_time": "2023-04-16T09:50:00.055165Z",
     "end_time": "2023-04-16T09:50:00.099802Z"
    }
   }
  },
  {
   "cell_type": "code",
   "execution_count": 5,
   "outputs": [],
   "source": [
    "# Create the ontology\n",
    "classes = {\n",
    "    \"Langue\": create_class(graph, \"Langue\"),\n",
    "    \"Pays\": create_class(graph, \"Pays\"),\n",
    "    \"Région\": create_class(graph, \"Région\"),\n",
    "    \"Continent\": create_class(graph, \"Continent\"),\n",
    "    \"Famille_de_langue\": create_class(graph, \"Famille_de_langue\"),\n",
    "    \"Organisation\": create_class(graph, \"Organisation\"),\n",
    "    \"Propriété\": create_class(graph, \"Propriété\"),\n",
    "    \"Alphabet\": create_class(graph, \"Alphabet\"),\n",
    "}\n",
    "\n",
    "properties = {\n",
    "   \"a_langue_mere\": create_property(graph, \"estLangueFille\", \"Langue\", \"Langue\"),\n",
    "    \"a_propriété\": create_property(graph, \"aPropriété\", \"Langue\", \"Propriété\"),\n",
    "    \"a_organisation\": create_property(graph, \"estLangueOrganisation\", \"Langue\", \"Organisation\"),\n",
    "    \"a_famille\": create_property(graph, \"estDansLaFamille\", \"Langue\", \"Famille_de_langue\"),\n",
    "    \"a_alphabet\": create_property(graph, \"aAlphabet\", \"Langue\", \"Alphabet\"),\n",
    "    \"a_pays\": create_property(graph, \"estLangueOfficielle\", \"Langue\", \"Pays\"),\n",
    "    \"a_pays_origine\": create_property(graph, \"aPaysOrigine\", \"Langue\", \"Pays\"),\n",
    "    \"a_region\": create_property(graph, \"aRégion\", \"Pays\", \"Région\"),\n",
    "    \"a_continent\": create_property(graph, \"aContinent\", \"Région\", \"Continent\"),\n",
    "    \"a_region_mere\": create_property(graph, \"aRégionMère\", \"Région\", \"Région\"),\n",
    "\n",
    "    \"a_locuteurs\": create_datatype_property(graph, \"aLocuteurs\", \"Langue\", \"int\"),\n",
    "    \"a_locuteurs_natifs\": create_datatype_property(graph, \"aLocuteursNatifs\", \"Langue\", \"int\", \"aLocuteurs\"),\n",
    "    \"a_locuteurs_secondaires\": create_datatype_property(graph, \"aLocuteursSecondaires\", \"Langue\", \"int\", \"aLocuteurs\"),\n",
    "    \"a_code_iso\": create_datatype_property(graph, \"aCodeISO\", \"Langue\", \"string\"),\n",
    "}\n",
    "\n",
    "instances = {\n",
    "    \"langues\": {},\n",
    "    \"pays\": {},\n",
    "    \"regions\": {},\n",
    "    \"continents\": {},\n",
    "    \"familles\": {},\n",
    "    \"organisations\": {},\n",
    "    \"propriétés\": {},\n",
    "    \"alphabets\": {},\n",
    "}\n"
   ],
   "metadata": {
    "collapsed": false,
    "ExecuteTime": {
     "start_time": "2023-04-16T09:50:00.099655Z",
     "end_time": "2023-04-16T09:50:00.100059Z"
    }
   }
  },
  {
   "cell_type": "code",
   "execution_count": 6,
   "outputs": [],
   "source": [
    "df = pd.read_csv(\"../CSVS/famille.csv\").fillna(\"\")\n",
    "for index, row in df.iterrows():\n",
    "    label = row[\"Label\"]\n",
    "    origine = row[\"Langue_origine\"]\n",
    "    proprietes = row[\"Propriété\"].split(\",\")\n",
    "    proprietes = [p.strip() for p in proprietes]\n",
    "    proprietes = [p for p in proprietes if p]\n",
    "\n",
    "    famille_uri = create_instance(graph, label, classes[\"Famille_de_langue\"])\n",
    "    instances[\"familles\"][label] = famille_uri\n",
    "\n",
    "    if origine:\n",
    "        origine_uri = create_instance(graph, origine, classes[\"Langue\"])\n",
    "        graph.add((famille_uri, properties[\"a_langue_mere\"], origine_uri))\n",
    "\n",
    "    for p in proprietes:\n",
    "        p_uri = create_instance(graph, p, classes[\"Propriété\"])\n",
    "        graph.add((famille_uri, properties[\"a_propriété\"], p_uri))\n",
    "\n",
    "df = pd.read_csv(\"../CSVS/pays.csv\").fillna(\"\")\n",
    "for index, row in df.iterrows():\n",
    "    label = row[\"Label\"]\n",
    "    region = row[\"Région\"]\n",
    "\n",
    "    pays_uri = create_instance(graph, label, classes[\"Pays\"])\n",
    "    instances[\"pays\"][label] = pays_uri\n",
    "\n",
    "    if region:\n",
    "        region_uri = create_instance(graph, region, classes[\"Région\"])\n",
    "        graph.add((pays_uri, properties[\"a_region\"], region_uri))\n",
    "\n",
    "df = pd.read_csv(\"../CSVS/region.csv\").fillna(\"\")\n",
    "for index, row in df.iterrows():\n",
    "    label = row[\"Label\"]\n",
    "    continent = row[\"Continent\"]\n",
    "    region_mere = row[\"Région\"]\n",
    "\n",
    "    region_uri = create_instance(graph, label, classes[\"Région\"])\n",
    "    instances[\"regions\"][label] = region_uri\n",
    "\n",
    "    if continent:\n",
    "        continent_uri = create_instance(graph, continent, classes[\"Continent\"])\n",
    "        graph.add((region_uri, properties[\"a_continent\"], continent_uri))\n",
    "\n",
    "    if region_mere:\n",
    "        region_mere_uri = create_instance(graph, region_mere, classes[\"Région\"])\n",
    "        graph.add((region_uri, properties[\"a_region_mere\"], region_mere_uri))\n",
    "\n",
    "\n",
    "\n",
    "\n",
    "\n"
   ],
   "metadata": {
    "collapsed": false,
    "ExecuteTime": {
     "start_time": "2023-04-16T09:50:00.099717Z",
     "end_time": "2023-04-16T09:50:00.140773Z"
    }
   }
  },
  {
   "cell_type": "code",
   "execution_count": 7,
   "outputs": [],
   "source": [
    "def parse_lang_csv(path):\n",
    "    df = pd.read_csv(path).fillna(\"\")\n",
    "    for index, row in df.iterrows():\n",
    "        label = row[\"Langue\"]\n",
    "        pays = row[\"Pays\"].split(\",\")\n",
    "        pays = [p.strip() for p in pays]\n",
    "        pays = [p for p in pays if p]\n",
    "        alphabet = row[\"Alphabet\"]\n",
    "        locuteurs_natifs = parse_int(row[\"Locuteurs_n\"])\n",
    "        locuteurs_secondaires = parse_int(row[\"Locuteurs_s\"])\n",
    "        famille = row[\"Famille\"]\n",
    "        proprietes = parse_multiple_values(row, \"Propriété\")\n",
    "        organisations = parse_multiple_values(row, \"Organisations\")\n",
    "        code_iso = row[\"ISO_639-3\"]\n",
    "        pays_origine =parse_multiple_values(row, \"Pays_origine\")\n",
    "        langue_mere = parse_multiple_values(row, \"Langue_origine\")\n",
    "\n",
    "        langue_uri = create_instance(graph, label, classes[\"Langue\"])\n",
    "        instances[\"langues\"][label] = langue_uri\n",
    "\n",
    "        if alphabet:\n",
    "            alphabet_uri = create_instance(graph, alphabet, classes[\"Alphabet\"])\n",
    "            graph.add((langue_uri, properties[\"a_alphabet\"], alphabet_uri))\n",
    "\n",
    "        if famille:\n",
    "            famille_uri = instances[\"familles\"][famille]\n",
    "            graph.add((langue_uri, properties[\"a_famille\"], famille_uri))\n",
    "\n",
    "        if locuteurs_natifs:\n",
    "            graph.add((langue_uri, properties[\"a_locuteurs_natifs\"], Literal(locuteurs_natifs)))\n",
    "\n",
    "        if locuteurs_secondaires:\n",
    "            graph.add((langue_uri, properties[\"a_locuteurs_secondaires\"], Literal(locuteurs_secondaires)))\n",
    "\n",
    "        if code_iso:\n",
    "            graph.add((langue_uri, properties[\"a_code_iso\"], Literal(code_iso)))\n",
    "\n",
    "        for p in proprietes:\n",
    "            p_uri = create_instance(graph, p, classes[\"Propriété\"])\n",
    "            graph.add((langue_uri, properties[\"a_propriété\"], p_uri))\n",
    "\n",
    "        for o in organisations:\n",
    "            o_uri = create_instance(graph, o, classes[\"Organisation\"])\n",
    "            graph.add((langue_uri, properties[\"a_organisation\"], o_uri))\n",
    "\n",
    "        for p in pays:\n",
    "            p_uri = create_instance(graph, p, classes[\"Pays\"])\n",
    "            graph.add((langue_uri, properties[\"a_pays\"], p_uri))\n",
    "\n",
    "        for p in pays_origine:\n",
    "            p_uri = instances[\"pays\"][p]\n",
    "            graph.add((langue_uri, properties[\"a_pays_origine\"], p_uri))\n",
    "\n",
    "        for l in langue_mere:\n",
    "            l_uri = create_instance(graph, l, classes[\"Langue\"])\n",
    "            graph.add((langue_uri, properties[\"a_langue_mere\"], l_uri))"
   ],
   "metadata": {
    "collapsed": false,
    "ExecuteTime": {
     "start_time": "2023-04-16T09:50:00.140612Z",
     "end_time": "2023-04-16T09:50:00.141005Z"
    }
   }
  },
  {
   "cell_type": "code",
   "execution_count": 8,
   "outputs": [],
   "source": [
    "for path in (\"../CSVS/langues_ad.csv\", \"../CSVS/langues_dk.csv\", \"../CSVS/langues_mh.csv\"):\n",
    "    parse_lang_csv(path)"
   ],
   "metadata": {
    "collapsed": false,
    "ExecuteTime": {
     "start_time": "2023-04-16T09:50:00.140670Z",
     "end_time": "2023-04-16T09:50:00.141089Z"
    }
   }
  },
  {
   "cell_type": "code",
   "execution_count": 9,
   "outputs": [
    {
     "data": {
      "text/plain": "<Graph identifier=N483567bd9d4745b990142a2f37dff686 (<class 'rdflib.graph.Graph'>)>"
     },
     "execution_count": 9,
     "metadata": {},
     "output_type": "execute_result"
    }
   ],
   "source": [
    "# Save the graph\n",
    "graph.serialize(destination=\"../RDFs/langues.ttl\", format=\"turtle\")\n",
    "graph.serialize(destination=\"../RDFs/langues.rdf\", format=\"xml\")\n"
   ],
   "metadata": {
    "collapsed": false,
    "ExecuteTime": {
     "start_time": "2023-04-16T09:50:00.140697Z",
     "end_time": "2023-04-16T09:50:00.194261Z"
    }
   }
  },
  {
   "cell_type": "code",
   "execution_count": 10,
   "outputs": [],
   "source": [
    "def trieur(csv, colonne):\n",
    "    df = pd.read_csv(csv).fillna(\"\")\n",
    "    sorted_df = df.sort_values(by=[colonne], ascending=True)\n",
    "    sorted_df.to_csv(csv, index=False)"
   ],
   "metadata": {
    "collapsed": false,
    "ExecuteTime": {
     "start_time": "2023-04-16T09:50:00.194085Z",
     "end_time": "2023-04-16T09:50:00.235173Z"
    }
   }
  },
  {
   "cell_type": "code",
   "execution_count": 11,
   "outputs": [],
   "source": [
    "for csv, colonne in (\n",
    "    (\"../CSVS/langues_ad.csv\", \"Langue\"),\n",
    "    (\"../CSVS/langues_dk.csv\", \"Langue\"),\n",
    "    (\"../CSVS/langues_mh.csv\", \"Langue\"),\n",
    "    (\"../CSVS/famille.csv\", \"Label\"),\n",
    "    (\"../CSVS/pays.csv\", \"Label\"),\n",
    "    (\"../CSVS/region.csv\", \"Label\"),\n",
    "):\n",
    "    trieur(csv, colonne)"
   ],
   "metadata": {
    "collapsed": false,
    "ExecuteTime": {
     "start_time": "2023-04-16T09:50:00.234646Z",
     "end_time": "2023-04-16T09:50:00.235425Z"
    }
   }
  },
  {
   "cell_type": "markdown",
   "source": [],
   "metadata": {
    "collapsed": false
   }
  }
 ],
 "metadata": {
  "kernelspec": {
   "display_name": "Python 3",
   "language": "python",
   "name": "python3"
  },
  "language_info": {
   "codemirror_mode": {
    "name": "ipython",
    "version": 2
   },
   "file_extension": ".py",
   "mimetype": "text/x-python",
   "name": "python",
   "nbconvert_exporter": "python",
   "pygments_lexer": "ipython2",
   "version": "2.7.6"
  }
 },
 "nbformat": 4,
 "nbformat_minor": 0
}
