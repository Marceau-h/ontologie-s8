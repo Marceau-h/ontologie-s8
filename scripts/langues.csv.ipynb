{
 "cells": [
  {
   "cell_type": "code",
   "execution_count": 1,
   "metadata": {
    "collapsed": true,
    "ExecuteTime": {
     "start_time": "2023-04-15T10:19:23.435533Z",
     "end_time": "2023-04-15T10:19:23.790454Z"
    }
   },
   "outputs": [],
   "source": [
    "import xml.etree.ElementTree as ET\n",
    "import datetime\n",
    "from rdflib.graph import Graph, Literal, Namespace, URIRef\n",
    "from rdflib.namespace import Namespace, OWL, RDF, RDFS, FOAF, DCTERMS, XSD, SDO\n",
    "import pandas as pd"
   ]
  },
  {
   "cell_type": "code",
   "execution_count": 2,
   "outputs": [],
   "source": [
    "df = pd.read_csv(\"../CSVS/famille.csv\", sep=\",\", encoding=\"utf-8\").fillna(\"\")\n"
   ],
   "metadata": {
    "collapsed": false,
    "ExecuteTime": {
     "start_time": "2023-04-15T10:19:23.790139Z",
     "end_time": "2023-04-15T10:19:23.799718Z"
    }
   }
  },
  {
   "cell_type": "code",
   "execution_count": 3,
   "outputs": [],
   "source": [
    "ns = Namespace(\"http://www.semanticweb.org/marceau/ontologies/2023/2/langues_indo_eu#\")\n",
    "graph = Graph()\n",
    "graph.bind(\"langues\", ns)\n",
    "graph.bind(\"owl\", OWL)\n",
    "graph.bind(\"rdf\", RDF)\n",
    "graph.bind(\"rdfs\", RDFS)\n",
    "graph.bind(\"foaf\", FOAF)\n",
    "graph.bind(\"dcterms\", DCTERMS)\n",
    "graph.bind(\"xsd\", XSD)\n",
    "graph.bind(\"sdo\", SDO)\n"
   ],
   "metadata": {
    "collapsed": false,
    "ExecuteTime": {
     "start_time": "2023-04-15T10:19:23.796757Z",
     "end_time": "2023-04-15T10:19:23.841758Z"
    }
   }
  },
  {
   "cell_type": "code",
   "execution_count": 4,
   "outputs": [],
   "source": [
    "for index, row in df.iterrows():\n",
    "    label = row[\"Label\"]\n",
    "    origine = row[\"Langue_origine\"]\n",
    "    proprietes = row[\"Propriété\"].split(\",\")\n",
    "    proprietes = [p.strip() for p in proprietes]\n",
    "    proprietes = [p for p in proprietes if p]\n",
    "\n",
    "    graph.add((ns[label], RDF.type, ns[\"Famille_de_langue\"]))\n",
    "    graph.add((ns[label], RDFS.label, Literal(label, lang=\"fr\")))\n",
    "    graph.add((ns[label], ns.langue_origine, ns[origine]))\n",
    "    for p in proprietes:\n",
    "        graph.add((ns[label], ns.a_propriété_famille, ns[p]))\n"
   ],
   "metadata": {
    "collapsed": false,
    "ExecuteTime": {
     "start_time": "2023-04-15T10:19:23.823832Z",
     "end_time": "2023-04-15T10:19:23.842162Z"
    }
   }
  },
  {
   "cell_type": "code",
   "execution_count": 5,
   "outputs": [
    {
     "data": {
      "text/plain": "                Label Continent          Région\n0             Balkans    Europe  Europe_Sud_Est\n1      Europe_Sud_Est    Europe      Europe_Est\n2          Europe_Est    Europe                \n3     Europe_Nord_Est    Europe      Europe_Est\n4     Europe_Centrale    Europe                \n5    Europe_Sud_Ouest    Europe    Europe_Ouest\n6        Europe_Ouest    Europe                \n7   Europe_Nord_Ouest    Europe    Europe_Ouest\n8        Afrique_Nord   Afrique                \n9         Afrique_Sud   Afrique                \n10            Oceanie   Oceanie                \n11      Amerique_Nord  Amerique                \n12       Amerique_Sud  Amerique                \n13          Asie_Nord      Asie                \n14           Asie_Sud      Asie                ",
      "text/html": "<div>\n<style scoped>\n    .dataframe tbody tr th:only-of-type {\n        vertical-align: middle;\n    }\n\n    .dataframe tbody tr th {\n        vertical-align: top;\n    }\n\n    .dataframe thead th {\n        text-align: right;\n    }\n</style>\n<table border=\"1\" class=\"dataframe\">\n  <thead>\n    <tr style=\"text-align: right;\">\n      <th></th>\n      <th>Label</th>\n      <th>Continent</th>\n      <th>Région</th>\n    </tr>\n  </thead>\n  <tbody>\n    <tr>\n      <th>0</th>\n      <td>Balkans</td>\n      <td>Europe</td>\n      <td>Europe_Sud_Est</td>\n    </tr>\n    <tr>\n      <th>1</th>\n      <td>Europe_Sud_Est</td>\n      <td>Europe</td>\n      <td>Europe_Est</td>\n    </tr>\n    <tr>\n      <th>2</th>\n      <td>Europe_Est</td>\n      <td>Europe</td>\n      <td></td>\n    </tr>\n    <tr>\n      <th>3</th>\n      <td>Europe_Nord_Est</td>\n      <td>Europe</td>\n      <td>Europe_Est</td>\n    </tr>\n    <tr>\n      <th>4</th>\n      <td>Europe_Centrale</td>\n      <td>Europe</td>\n      <td></td>\n    </tr>\n    <tr>\n      <th>5</th>\n      <td>Europe_Sud_Ouest</td>\n      <td>Europe</td>\n      <td>Europe_Ouest</td>\n    </tr>\n    <tr>\n      <th>6</th>\n      <td>Europe_Ouest</td>\n      <td>Europe</td>\n      <td></td>\n    </tr>\n    <tr>\n      <th>7</th>\n      <td>Europe_Nord_Ouest</td>\n      <td>Europe</td>\n      <td>Europe_Ouest</td>\n    </tr>\n    <tr>\n      <th>8</th>\n      <td>Afrique_Nord</td>\n      <td>Afrique</td>\n      <td></td>\n    </tr>\n    <tr>\n      <th>9</th>\n      <td>Afrique_Sud</td>\n      <td>Afrique</td>\n      <td></td>\n    </tr>\n    <tr>\n      <th>10</th>\n      <td>Oceanie</td>\n      <td>Oceanie</td>\n      <td></td>\n    </tr>\n    <tr>\n      <th>11</th>\n      <td>Amerique_Nord</td>\n      <td>Amerique</td>\n      <td></td>\n    </tr>\n    <tr>\n      <th>12</th>\n      <td>Amerique_Sud</td>\n      <td>Amerique</td>\n      <td></td>\n    </tr>\n    <tr>\n      <th>13</th>\n      <td>Asie_Nord</td>\n      <td>Asie</td>\n      <td></td>\n    </tr>\n    <tr>\n      <th>14</th>\n      <td>Asie_Sud</td>\n      <td>Asie</td>\n      <td></td>\n    </tr>\n  </tbody>\n</table>\n</div>"
     },
     "execution_count": 5,
     "metadata": {},
     "output_type": "execute_result"
    }
   ],
   "source": [
    "df = pd.read_csv(\"../CSVS/region.csv\", sep=\",\", encoding=\"utf-8\").fillna(\"\")\n",
    "df"
   ],
   "metadata": {
    "collapsed": false,
    "ExecuteTime": {
     "start_time": "2023-04-15T10:19:23.830882Z",
     "end_time": "2023-04-15T10:19:23.905118Z"
    }
   }
  },
  {
   "cell_type": "code",
   "execution_count": 6,
   "outputs": [],
   "source": [
    "for index, row in df.iterrows():\n",
    "    label = row[\"Label\"]\n",
    "    continent = row[\"Continent\"]\n",
    "    region_mere = row[\"Région\"]\n",
    "\n",
    "    graph.add((ns[label], RDF.type, ns[\"Région\"]))\n",
    "    graph.add((ns[label], RDFS.label, Literal(label, lang=\"fr\")))\n",
    "    graph.add((ns[label], ns.du_continent, ns[continent]))\n",
    "    if region_mere:\n",
    "        graph.add((ns[label], ns.région_mère, ns[region_mere]))\n",
    "\n"
   ],
   "metadata": {
    "collapsed": false,
    "ExecuteTime": {
     "start_time": "2023-04-15T10:19:23.872826Z",
     "end_time": "2023-04-15T10:19:23.905430Z"
    }
   }
  },
  {
   "cell_type": "code",
   "execution_count": 7,
   "outputs": [
    {
     "data": {
      "text/plain": "                   Label           Région\n0                 Serbie          Balkans\n1                Croatie          Balkans\n2   Fédération_de_Russie  Europe_Nord_Est\n3                Ukraine  Europe_Nord_Est\n4            Biélorussie  Europe_Nord_Est\n5                Pologne  Europe_Centrale\n6     République_Tchèque  Europe_centrale\n7              Slovaquie  Europe_Centrale\n8               Slovénie  Europe_Centrale\n9      Macédoine_du_Nord          Balkans\n10              Bulgarie          Balkans",
      "text/html": "<div>\n<style scoped>\n    .dataframe tbody tr th:only-of-type {\n        vertical-align: middle;\n    }\n\n    .dataframe tbody tr th {\n        vertical-align: top;\n    }\n\n    .dataframe thead th {\n        text-align: right;\n    }\n</style>\n<table border=\"1\" class=\"dataframe\">\n  <thead>\n    <tr style=\"text-align: right;\">\n      <th></th>\n      <th>Label</th>\n      <th>Région</th>\n    </tr>\n  </thead>\n  <tbody>\n    <tr>\n      <th>0</th>\n      <td>Serbie</td>\n      <td>Balkans</td>\n    </tr>\n    <tr>\n      <th>1</th>\n      <td>Croatie</td>\n      <td>Balkans</td>\n    </tr>\n    <tr>\n      <th>2</th>\n      <td>Fédération_de_Russie</td>\n      <td>Europe_Nord_Est</td>\n    </tr>\n    <tr>\n      <th>3</th>\n      <td>Ukraine</td>\n      <td>Europe_Nord_Est</td>\n    </tr>\n    <tr>\n      <th>4</th>\n      <td>Biélorussie</td>\n      <td>Europe_Nord_Est</td>\n    </tr>\n    <tr>\n      <th>5</th>\n      <td>Pologne</td>\n      <td>Europe_Centrale</td>\n    </tr>\n    <tr>\n      <th>6</th>\n      <td>République_Tchèque</td>\n      <td>Europe_centrale</td>\n    </tr>\n    <tr>\n      <th>7</th>\n      <td>Slovaquie</td>\n      <td>Europe_Centrale</td>\n    </tr>\n    <tr>\n      <th>8</th>\n      <td>Slovénie</td>\n      <td>Europe_Centrale</td>\n    </tr>\n    <tr>\n      <th>9</th>\n      <td>Macédoine_du_Nord</td>\n      <td>Balkans</td>\n    </tr>\n    <tr>\n      <th>10</th>\n      <td>Bulgarie</td>\n      <td>Balkans</td>\n    </tr>\n  </tbody>\n</table>\n</div>"
     },
     "execution_count": 7,
     "metadata": {},
     "output_type": "execute_result"
    }
   ],
   "source": [
    "df = pd.read_csv(\"../CSVS/pays.csv\", sep=\",\", encoding=\"utf-8\").fillna(\"\")\n",
    "df\n"
   ],
   "metadata": {
    "collapsed": false,
    "ExecuteTime": {
     "start_time": "2023-04-15T10:19:23.872962Z",
     "end_time": "2023-04-15T10:19:23.913508Z"
    }
   }
  },
  {
   "cell_type": "code",
   "execution_count": 8,
   "outputs": [],
   "source": [
    "for index, row in df.iterrows():\n",
    "    label = row[\"Label\"]\n",
    "    region = row[\"Région\"]\n",
    "\n",
    "    graph.add((ns[label], RDF.type, ns[\"Pays\"]))\n",
    "    graph.add((ns[label], RDFS.label, Literal(label, lang=\"fr\")))\n",
    "    graph.add((ns[label], ns.vient_de_region, ns[region]))\n"
   ],
   "metadata": {
    "collapsed": false,
    "ExecuteTime": {
     "start_time": "2023-04-15T10:19:23.913223Z",
     "end_time": "2023-04-15T10:19:23.913745Z"
    }
   }
  },
  {
   "cell_type": "markdown",
   "source": [],
   "metadata": {
    "collapsed": false
   }
  },
  {
   "cell_type": "code",
   "execution_count": 9,
   "outputs": [
    {
     "data": {
      "text/plain": "        Langue                                               Pays    Alphabet   \n0        Serbe  Serbie, Croatie, Bosnie-Herzégovine, Monténégr...  Cyrillique  \\\n1       Croate    Serbie, Croatie, Bosnie-Herzégovine, Monténégro  Cyrillique   \n2        Russe  Fédération_de_Russie, Biélorussie, Kazakhstan,...  Cyrillique   \n3    Ukrainien  Ukraine, Roumanie, Pologne, République_Tchèque...  Cyrillique   \n4   Biélorusse  Biélorussie, Fédération_de_Russie, Ukraine, Po...  Cyrillique   \n5     Polonais  Pologne, Ukraine, Etats-Unis, Allemagne, Répub...  Cyrillique   \n6      Tchèque                      République_Tchèque, Slovaquie  Cyrillique   \n7     Slovaque  Slovaquie, Pologne, Hongrie, Autriche, Républi...  Cyrillique   \n8      Slovène       Slovénie, Italie, Autriche, Croatie, Hongrie  Cyrillique   \n9   Macédonien       Macédoine_du_Nord, Serbie, Albanie, Bulgarie  Cyrillique   \n10     Bulgare  Bulgarie, Moldavie, Ukraine, Roumanie, Serbie,...  Cyrillique   \n\n    Locuteurs_n  Locuteurs_s Famille    Propriété   \n0       9000000      3000000   Slave  Cas,Flexion  \\\n1      55000000      7000000   Slave  Cas,Flexion   \n2     155000000    103000000   Slave  Cas,Flexion   \n3      37000000     10000000   Slave  Cas,Flexion   \n4       4000000      1000000   Slave  Cas,Flexion   \n5      45000000     10000000   Slave  Cas,Flexion   \n6      11000000      3000000   Slave  Cas,Flexion   \n7      55000000     11000000   Slave  Cas,Flexion   \n8      25000000      3000000   Slave  Cas,Flexion   \n9      21000000     25000000   Slave  Cas,Flexion   \n10      7000000      2000000   Slave  Cas,Flexion   \n\n                                        Organisations ISO_639-3   \n0                                                           srp  \\\n1                               Union_européenne_(UE)       hrv   \n2   Organisation_du_traité_de_sécurité_collective_...       rus   \n3   Organisation_pour_la_sécurité_et_la_coopératio...       ukr   \n4                                                           bel   \n5                                                           pol   \n6                               Union_européenne_(UE)       ces   \n7   Organisation_du_traité_de_l'Atlantique_Nord_(O...       slk   \n8   Organisation_du_traité_de_l'Atlantique_Nord_(O...       slv   \n9                                                           mkd   \n10                              Union_européenne_(UE)       bul   \n\n            Pays_origine  Langue_origine  \n0                 Serbie     Proto-slave  \n1                Croatie     Proto-slave  \n2   Fédération_de_Russie  Proto-slave     \n3                Ukraine     Proto-slave  \n4            Biélorussie     Proto-slave  \n5                Pologne     Proto-slave  \n6     République_Tchèque     Proto-slave  \n7              Slovaquie     Proto-slave  \n8               Slovénie     Proto-slave  \n9      Macédoine_du_Nord     Proto-slave  \n10              Bulgarie     Proto-slave  ",
      "text/html": "<div>\n<style scoped>\n    .dataframe tbody tr th:only-of-type {\n        vertical-align: middle;\n    }\n\n    .dataframe tbody tr th {\n        vertical-align: top;\n    }\n\n    .dataframe thead th {\n        text-align: right;\n    }\n</style>\n<table border=\"1\" class=\"dataframe\">\n  <thead>\n    <tr style=\"text-align: right;\">\n      <th></th>\n      <th>Langue</th>\n      <th>Pays</th>\n      <th>Alphabet</th>\n      <th>Locuteurs_n</th>\n      <th>Locuteurs_s</th>\n      <th>Famille</th>\n      <th>Propriété</th>\n      <th>Organisations</th>\n      <th>ISO_639-3</th>\n      <th>Pays_origine</th>\n      <th>Langue_origine</th>\n    </tr>\n  </thead>\n  <tbody>\n    <tr>\n      <th>0</th>\n      <td>Serbe</td>\n      <td>Serbie, Croatie, Bosnie-Herzégovine, Monténégr...</td>\n      <td>Cyrillique</td>\n      <td>9000000</td>\n      <td>3000000</td>\n      <td>Slave</td>\n      <td>Cas,Flexion</td>\n      <td></td>\n      <td>srp</td>\n      <td>Serbie</td>\n      <td>Proto-slave</td>\n    </tr>\n    <tr>\n      <th>1</th>\n      <td>Croate</td>\n      <td>Serbie, Croatie, Bosnie-Herzégovine, Monténégro</td>\n      <td>Cyrillique</td>\n      <td>55000000</td>\n      <td>7000000</td>\n      <td>Slave</td>\n      <td>Cas,Flexion</td>\n      <td>Union_européenne_(UE)</td>\n      <td>hrv</td>\n      <td>Croatie</td>\n      <td>Proto-slave</td>\n    </tr>\n    <tr>\n      <th>2</th>\n      <td>Russe</td>\n      <td>Fédération_de_Russie, Biélorussie, Kazakhstan,...</td>\n      <td>Cyrillique</td>\n      <td>155000000</td>\n      <td>103000000</td>\n      <td>Slave</td>\n      <td>Cas,Flexion</td>\n      <td>Organisation_du_traité_de_sécurité_collective_...</td>\n      <td>rus</td>\n      <td>Fédération_de_Russie</td>\n      <td>Proto-slave</td>\n    </tr>\n    <tr>\n      <th>3</th>\n      <td>Ukrainien</td>\n      <td>Ukraine, Roumanie, Pologne, République_Tchèque...</td>\n      <td>Cyrillique</td>\n      <td>37000000</td>\n      <td>10000000</td>\n      <td>Slave</td>\n      <td>Cas,Flexion</td>\n      <td>Organisation_pour_la_sécurité_et_la_coopératio...</td>\n      <td>ukr</td>\n      <td>Ukraine</td>\n      <td>Proto-slave</td>\n    </tr>\n    <tr>\n      <th>4</th>\n      <td>Biélorusse</td>\n      <td>Biélorussie, Fédération_de_Russie, Ukraine, Po...</td>\n      <td>Cyrillique</td>\n      <td>4000000</td>\n      <td>1000000</td>\n      <td>Slave</td>\n      <td>Cas,Flexion</td>\n      <td></td>\n      <td>bel</td>\n      <td>Biélorussie</td>\n      <td>Proto-slave</td>\n    </tr>\n    <tr>\n      <th>5</th>\n      <td>Polonais</td>\n      <td>Pologne, Ukraine, Etats-Unis, Allemagne, Répub...</td>\n      <td>Cyrillique</td>\n      <td>45000000</td>\n      <td>10000000</td>\n      <td>Slave</td>\n      <td>Cas,Flexion</td>\n      <td></td>\n      <td>pol</td>\n      <td>Pologne</td>\n      <td>Proto-slave</td>\n    </tr>\n    <tr>\n      <th>6</th>\n      <td>Tchèque</td>\n      <td>République_Tchèque, Slovaquie</td>\n      <td>Cyrillique</td>\n      <td>11000000</td>\n      <td>3000000</td>\n      <td>Slave</td>\n      <td>Cas,Flexion</td>\n      <td>Union_européenne_(UE)</td>\n      <td>ces</td>\n      <td>République_Tchèque</td>\n      <td>Proto-slave</td>\n    </tr>\n    <tr>\n      <th>7</th>\n      <td>Slovaque</td>\n      <td>Slovaquie, Pologne, Hongrie, Autriche, Républi...</td>\n      <td>Cyrillique</td>\n      <td>55000000</td>\n      <td>11000000</td>\n      <td>Slave</td>\n      <td>Cas,Flexion</td>\n      <td>Organisation_du_traité_de_l'Atlantique_Nord_(O...</td>\n      <td>slk</td>\n      <td>Slovaquie</td>\n      <td>Proto-slave</td>\n    </tr>\n    <tr>\n      <th>8</th>\n      <td>Slovène</td>\n      <td>Slovénie, Italie, Autriche, Croatie, Hongrie</td>\n      <td>Cyrillique</td>\n      <td>25000000</td>\n      <td>3000000</td>\n      <td>Slave</td>\n      <td>Cas,Flexion</td>\n      <td>Organisation_du_traité_de_l'Atlantique_Nord_(O...</td>\n      <td>slv</td>\n      <td>Slovénie</td>\n      <td>Proto-slave</td>\n    </tr>\n    <tr>\n      <th>9</th>\n      <td>Macédonien</td>\n      <td>Macédoine_du_Nord, Serbie, Albanie, Bulgarie</td>\n      <td>Cyrillique</td>\n      <td>21000000</td>\n      <td>25000000</td>\n      <td>Slave</td>\n      <td>Cas,Flexion</td>\n      <td></td>\n      <td>mkd</td>\n      <td>Macédoine_du_Nord</td>\n      <td>Proto-slave</td>\n    </tr>\n    <tr>\n      <th>10</th>\n      <td>Bulgare</td>\n      <td>Bulgarie, Moldavie, Ukraine, Roumanie, Serbie,...</td>\n      <td>Cyrillique</td>\n      <td>7000000</td>\n      <td>2000000</td>\n      <td>Slave</td>\n      <td>Cas,Flexion</td>\n      <td>Union_européenne_(UE)</td>\n      <td>bul</td>\n      <td>Bulgarie</td>\n      <td>Proto-slave</td>\n    </tr>\n  </tbody>\n</table>\n</div>"
     },
     "execution_count": 9,
     "metadata": {},
     "output_type": "execute_result"
    }
   ],
   "source": [
    "df = pd.read_csv(\"../CSVS/langues_ad.csv\", sep=\",\", encoding=\"utf-8\").fillna(\"\")\n",
    "df"
   ],
   "metadata": {
    "collapsed": false,
    "ExecuteTime": {
     "start_time": "2023-04-15T10:19:23.913362Z",
     "end_time": "2023-04-15T10:19:23.919733Z"
    }
   }
  },
  {
   "cell_type": "code",
   "execution_count": 10,
   "outputs": [],
   "source": [
    "for index, row in df.iterrows():\n",
    "    label = row[\"Langue\"]\n",
    "    pays = row[\"Pays\"].split(\",\")\n",
    "    pays = [p.strip() for p in pays]\n",
    "    pays = [p for p in pays if p]\n",
    "    alphabet = row[\"Alphabet\"]\n",
    "    locuteurs_natifs = row[\"Locuteurs_n\"]\n",
    "    locuteurs_natifs = int(locuteurs_natifs) if locuteurs_natifs else 0\n",
    "    locuteurs_secondaires = row[\"Locuteurs_s\"]\n",
    "    locuteurs_secondaires = int(locuteurs_secondaires) if locuteurs_secondaires else 0\n",
    "    famille = row[\"Famille\"]\n",
    "    proprietes = row[\"Propriété\"].split(\",\")\n",
    "    proprietes = [p.strip() for p in proprietes]\n",
    "    proprietes = [p for p in proprietes if p]\n",
    "    organisations = row[\"Organisations\"].split(\",\")\n",
    "    organisations = [o.strip() for o in organisations]\n",
    "    organisations = [o for o in organisations if o]\n",
    "    code_iso = row[\"ISO_639-3\"]\n",
    "    pays_origine = row[\"Pays_origine\"].split(\",\")\n",
    "    pays_origine = [p.strip() for p in pays_origine]\n",
    "    pays_origine = [p for p in pays_origine if p]\n",
    "    langue_origine = row[\"Langue_origine\"].split(\",\")\n",
    "    langue_origine = [l.strip() for l in langue_origine]\n",
    "    langue_origine = [l for l in langue_origine if l]\n",
    "\n",
    "    graph.add((ns[label], RDF.type, ns[\"Langue\"]))\n",
    "    graph.add((ns[label], RDFS.label, Literal(label, lang=\"fr\")))\n",
    "    graph.add((ns[label], ns.a_alphabet, ns[alphabet]))\n",
    "    graph.add((ns[label], ns.a_famille, ns[famille]))\n",
    "    graph.add((ns[label], ns.a_code_iso, Literal(code_iso)))\n",
    "    graph.add((ns[label], ns.a_locuteurs_natifs, Literal(locuteurs_natifs, datatype=XSD.int)))\n",
    "    graph.add((ns[label], ns.a_locuteurs_secondaires, Literal(locuteurs_secondaires, datatype=XSD.int)))\n",
    "    for p in proprietes:\n",
    "        graph.add((ns[label], ns.a_propriété, ns[p]))\n",
    "    for o in organisations:\n",
    "        graph.add((ns[label], ns.a_organisation, ns[o]))\n",
    "    for p in pays:\n",
    "        graph.add((ns[label], ns.a_pays, ns[p]))\n",
    "    for p in pays_origine:\n",
    "        graph.add((ns[label], ns.a_pays_origine, ns[p]))\n",
    "    for l in langue_origine:\n",
    "        graph.add((ns[label], ns.a_langue_mere, ns[l]))\n",
    "\n",
    "\n",
    "\n"
   ],
   "metadata": {
    "collapsed": false,
    "ExecuteTime": {
     "start_time": "2023-04-15T10:19:23.954302Z",
     "end_time": "2023-04-15T10:19:24.273409Z"
    }
   }
  },
  {
   "cell_type": "code",
   "execution_count": 11,
   "outputs": [],
   "source": [
    "# create relations\n",
    "\n",
    "a_pays = ns[\"a_pays\"]\n",
    "a_pays_origine = ns[\"a_pays_origine\"]\n",
    "a_organisation = ns[\"a_organisation\"]\n",
    "a_propriete = ns[\"a_propriété\"]\n",
    "a_propriete_famille = ns[\"a_propriété_famille\"]\n",
    "a_famille = ns[\"a_famille\"]\n",
    "a_alphabet = ns[\"a_alphabet\"]\n",
    "a_langue_mere = ns[\"a_langue_mere\"]\n",
    "vient_de = ns[\"vient_de\"]\n",
    "du_continent = ns[\"continent\"]\n",
    "region_mere = ns[\"région_mère\"]\n",
    "langue_origine = ns[\"langue_origine\"]\n",
    "\n",
    "def create_relation(relation, label, domain, range, rel_sup = []):\n",
    "    graph.add((relation, RDF.type, OWL.ObjectProperty))\n",
    "    graph.add((relation, RDFS.label, Literal(label, lang=\"fr\")))\n",
    "    graph.add((relation, RDFS.domain, ns[domain]))\n",
    "    graph.add((relation, RDFS.range, ns[range]))\n",
    "    for e in rel_sup:\n",
    "        graph.add((relation, RDFS.subPropertyOf, ns[e]))\n",
    "\n",
    "create_relation(a_pays, \"a_pays\", \"Langue\", \"Pays\")\n",
    "create_relation(a_pays_origine, \"a_pays_origine\", \"Langue\", \"Pays\", [a_pays])\n",
    "create_relation(a_organisation, \"a_organisation\", \"Langue\", \"Organisation\")\n",
    "create_relation(a_propriete, \"a_propriété\", \"Langue\", \"Propriété\")\n",
    "create_relation(a_propriete_famille, \"a_propriété_famille\", \"Famille\", \"Propriété\")\n",
    "create_relation(a_famille, \"a_famille\", \"Langue\", \"Famille\")\n",
    "create_relation(a_alphabet, \"a_alphabet\", \"Langue\", \"Alphabet\")\n",
    "create_relation(a_langue_mere, \"a_langue_mere\", \"Langue\", \"Langue\")\n",
    "create_relation(vient_de, \"vient_de\", \"Langue\", \"Région\")\n",
    "create_relation(du_continent, \"continent\", \"Région\", \"Continent\")\n",
    "create_relation(region_mere, \"région_mère\", \"Région\", \"Région\")\n",
    "create_relation(langue_origine, \"langue_origine\", \"Langue\", \"Langue\")\n",
    "\n"
   ],
   "metadata": {
    "collapsed": false,
    "ExecuteTime": {
     "start_time": "2023-04-15T10:19:23.954541Z",
     "end_time": "2023-04-15T10:19:24.286303Z"
    }
   }
  },
  {
   "cell_type": "code",
   "execution_count": 12,
   "outputs": [],
   "source": [
    "a_locuteurs_natifs = ns[\"a_locuteurs_natifs\"]\n",
    "a_locuteurs_secondaires = ns[\"a_locuteurs_secondaires\"]\n",
    "a_code_iso = ns[\"a_code_iso\"]"
   ],
   "metadata": {
    "collapsed": false,
    "ExecuteTime": {
     "start_time": "2023-04-15T10:19:23.954729Z",
     "end_time": "2023-04-15T10:19:24.307538Z"
    }
   }
  },
  {
   "cell_type": "code",
   "execution_count": 13,
   "outputs": [
    {
     "data": {
      "text/plain": "<Graph identifier=N1f35007d78df4b3393796be5dc7ed745 (<class 'rdflib.graph.Graph'>)>"
     },
     "execution_count": 13,
     "metadata": {},
     "output_type": "execute_result"
    }
   ],
   "source": [
    "graph.serialize(destination=\"../RDFs/langues.ttl\", format=\"turtle\")\n"
   ],
   "metadata": {
    "collapsed": false,
    "ExecuteTime": {
     "start_time": "2023-04-15T10:19:23.954856Z",
     "end_time": "2023-04-15T10:19:24.615072Z"
    }
   }
  },
  {
   "cell_type": "code",
   "execution_count": null,
   "outputs": [],
   "source": [
    "# Parse the csvs\n",
    "famille_de_langue = {}\n",
    "df = pd.read_csv(\"../CSVS/famille.csv\").fillna(\"\")\n",
    "for index, row in df.iterrows():\n",
    "    label = row[\"Label\"]\n",
    "    origine = row[\"Langue_origine\"]\n",
    "    proprietes = row[\"Propriété\"].split(\",\")\n",
    "    proprietes = [p.strip() for p in proprietes]\n",
    "    proprietes = [p for p in proprietes if p]\n",
    "\n",
    "        famille_de_langue[label] = {\n",
    "            \"origine\": origine,\n",
    "            \"proprietes\": proprietes\n",
    "        }\n",
    "\n",
    "pays = {}\n",
    "df = pd.read_csv(\"../CSVS/pays.csv\").fillna(\"\")\n",
    "for index, row in df.iterrows():\n",
    "    label = row[\"Label\"]\n",
    "    region = row[\"Région\"]\n",
    "\n",
    "    pays[label] = {\n",
    "        \"region\": region\n",
    "    }\n",
    "\n",
    "region = {}\n",
    "df = pd.read_csv(\"../CSVS/region.csv\").fillna(\"\")\n",
    "for index, row in df.iterrows():\n",
    "    label = row[\"Label\"]\n",
    "    continent = row[\"Continent\"]\n",
    "    region_mere = row[\"Région\"]\n",
    "\n",
    "    region[label] = {\n",
    "        \"continent\": continent,\n",
    "        \"region_mere\": region_mere\n",
    "    }\n",
    "\n",
    "\n",
    "langues = {}\n",
    "df = pd.read_csv(\"../CSVS/langues_ad.csv\").fillna(\"\")\n",
    "df\n",
    "for index, row in df.iterrows():\n",
    "    label = row[\"Langue\"]\n",
    "    pays = row[\"Pays\"].split(\",\")\n",
    "    pays = [p.strip() for p in pays]\n",
    "    pays = [p for p in pays if p]\n",
    "    alphabet = row[\"Alphabet\"]\n",
    "    locuteurs_natifs = parse_int(row[\"Locuteurs_n\"])\n",
    "    locuteurs_secondaires = parse_int(row[\"Locuteurs_s\"])\n",
    "    famille = row[\"Famille\"]\n",
    "    proprietes = parse_multiple_values(row, \"Propriété\")\n",
    "    organisations = parse_multiple_values(row, \"Organisations\")\n",
    "    code_iso = row[\"ISO_639-3\"]\n",
    "    pays_origine =parse_multiple_values(row, \"Pays_origine\")\n",
    "    langue_mere = parse_multiple_values(row, \"Langue_origine\")\n",
    "\n",
    "    langues[label] = {\n",
    "        \"pays\": pays,\n",
    "        \"alphabet\": alphabet,\n",
    "        \"locuteurs_natifs\": locuteurs_natifs,\n",
    "        \"locuteurs_secondaires\": locuteurs_secondaires,\n",
    "        \"famille\": famille,\n",
    "        \"proprietes\": proprietes,\n",
    "        \"organisations\": organisations,\n",
    "        \"code_iso\": code_iso,\n",
    "        \"pays_origine\": pays_origine,\n",
    "        \"langue_mere\": langue_mere\n",
    "    }\n"
   ],
   "metadata": {
    "collapsed": false
   }
  }
 ],
 "metadata": {
  "kernelspec": {
   "display_name": "Python 3",
   "language": "python",
   "name": "python3"
  },
  "language_info": {
   "codemirror_mode": {
    "name": "ipython",
    "version": 2
   },
   "file_extension": ".py",
   "mimetype": "text/x-python",
   "name": "python",
   "nbconvert_exporter": "python",
   "pygments_lexer": "ipython2",
   "version": "2.7.6"
  }
 },
 "nbformat": 4,
 "nbformat_minor": 0
}
